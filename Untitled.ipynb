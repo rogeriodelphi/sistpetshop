{
 "cells": [
  {
   "cell_type": "code",
   "execution_count": null,
   "id": "a24ecc2c",
   "metadata": {},
   "outputs": [],
   "source": [
    "users = User.objects.all()"
   ]
  },
  {
   "cell_type": "code",
   "execution_count": null,
   "id": "fd27e410",
   "metadata": {},
   "outputs": [],
   "source": [
    "for user in users:\n",
    "    print(user)"
   ]
  },
  {
   "cell_type": "code",
   "execution_count": null,
   "id": "68e6e342",
   "metadata": {},
   "outputs": [],
   "source": []
  }
 ],
 "metadata": {
  "kernelspec": {
   "display_name": "Django Shell-Plus",
   "language": "python",
   "name": "django_extensions"
  }
 },
 "nbformat": 4,
 "nbformat_minor": 5
}
