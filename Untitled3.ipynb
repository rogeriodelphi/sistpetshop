{
 "cells": [
  {
   "cell_type": "code",
   "execution_count": null,
   "id": "5f5946ad",
   "metadata": {},
   "outputs": [],
   "source": [
    "for user in users:\n",
    "    print(user)"
   ]
  },
  {
   "cell_type": "code",
   "execution_count": null,
   "id": "78087ce9",
   "metadata": {},
   "outputs": [],
   "source": [
    "jupyter kernelspec list\n"
   ]
  },
  {
   "cell_type": "code",
   "execution_count": null,
   "id": "785636e8",
   "metadata": {},
   "outputs": [],
   "source": []
  }
 ],
 "metadata": {
  "kernelspec": {
   "display_name": "Python 3 (ipykernel)",
   "language": "python",
   "name": "python3"
  }
 },
 "nbformat": 4,
 "nbformat_minor": 5
}
